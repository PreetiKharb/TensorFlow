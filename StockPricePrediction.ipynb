{
  "nbformat": 4,
  "nbformat_minor": 0,
  "metadata": {
    "colab": {
      "name": "StockPricePrediction.ipynb",
      "provenance": [],
      "collapsed_sections": [],
      "authorship_tag": "ABX9TyPpFys7IsISh8r4gdHtwCyM",
      "include_colab_link": true
    },
    "kernelspec": {
      "name": "python3",
      "display_name": "Python 3"
    }
  },
  "cells": [
    {
      "cell_type": "markdown",
      "metadata": {
        "id": "view-in-github",
        "colab_type": "text"
      },
      "source": [
        "<a href=\"https://colab.research.google.com/github/PreetiKharb/TensorFlow/blob/master/StockPricePrediction.ipynb\" target=\"_parent\"><img src=\"https://colab.research.google.com/assets/colab-badge.svg\" alt=\"Open In Colab\"/></a>"
      ]
    },
    {
      "cell_type": "code",
      "metadata": {
        "id": "E-4I07IKQcu-"
      },
      "source": [
        "#This program uses artificial recurrent neural network called Long Short Term Memory(LSTM)\r\n",
        "# to predict the closing stock price of a corporation using the past 60 day stock price.\r\n"
      ],
      "execution_count": null,
      "outputs": []
    },
    {
      "cell_type": "code",
      "metadata": {
        "id": "4v6Hpww2Q3r3"
      },
      "source": [
        "# Import lib\r\n",
        "import math\r\n",
        "import pandas_datareader as web\r\n",
        "import numpy as np\r\n",
        "import pandas as pd\r\n",
        "from sklearn.preprocessing import MinMaxScaler\r\n",
        "from keras.models import Sequential\r\n",
        "from keras.layers import Dense, LSTM\r\n",
        "import matplotlib.pyplot as plt\r\n",
        "plt.style.use('fivethirtyeight')"
      ],
      "execution_count": 3,
      "outputs": []
    },
    {
      "cell_type": "code",
      "metadata": {
        "colab": {
          "base_uri": "https://localhost:8080/",
          "height": 450
        },
        "id": "FU5IvKV9RnR2",
        "outputId": "f35cdd59-8fc5-44b3-eb7d-89f230a508fc"
      },
      "source": [
        "# Get the stock quote\r\n",
        "df = web.DataReader('AAPL', data_source='yahoo', start='2012-01-01', end='2020-12-17')\r\n",
        "# Show the data\r\n",
        "df "
      ],
      "execution_count": 72,
      "outputs": [
        {
          "output_type": "execute_result",
          "data": {
            "text/html": [
              "<div>\n",
              "<style scoped>\n",
              "    .dataframe tbody tr th:only-of-type {\n",
              "        vertical-align: middle;\n",
              "    }\n",
              "\n",
              "    .dataframe tbody tr th {\n",
              "        vertical-align: top;\n",
              "    }\n",
              "\n",
              "    .dataframe thead th {\n",
              "        text-align: right;\n",
              "    }\n",
              "</style>\n",
              "<table border=\"1\" class=\"dataframe\">\n",
              "  <thead>\n",
              "    <tr style=\"text-align: right;\">\n",
              "      <th></th>\n",
              "      <th>High</th>\n",
              "      <th>Low</th>\n",
              "      <th>Open</th>\n",
              "      <th>Close</th>\n",
              "      <th>Volume</th>\n",
              "      <th>Adj Close</th>\n",
              "    </tr>\n",
              "    <tr>\n",
              "      <th>Date</th>\n",
              "      <th></th>\n",
              "      <th></th>\n",
              "      <th></th>\n",
              "      <th></th>\n",
              "      <th></th>\n",
              "      <th></th>\n",
              "    </tr>\n",
              "  </thead>\n",
              "  <tbody>\n",
              "    <tr>\n",
              "      <th>2012-01-03</th>\n",
              "      <td>14.732143</td>\n",
              "      <td>14.607143</td>\n",
              "      <td>14.621429</td>\n",
              "      <td>14.686786</td>\n",
              "      <td>302220800.0</td>\n",
              "      <td>12.669562</td>\n",
              "    </tr>\n",
              "    <tr>\n",
              "      <th>2012-01-04</th>\n",
              "      <td>14.810000</td>\n",
              "      <td>14.617143</td>\n",
              "      <td>14.642857</td>\n",
              "      <td>14.765714</td>\n",
              "      <td>260022000.0</td>\n",
              "      <td>12.737653</td>\n",
              "    </tr>\n",
              "    <tr>\n",
              "      <th>2012-01-05</th>\n",
              "      <td>14.948214</td>\n",
              "      <td>14.738214</td>\n",
              "      <td>14.819643</td>\n",
              "      <td>14.929643</td>\n",
              "      <td>271269600.0</td>\n",
              "      <td>12.879066</td>\n",
              "    </tr>\n",
              "    <tr>\n",
              "      <th>2012-01-06</th>\n",
              "      <td>15.098214</td>\n",
              "      <td>14.972143</td>\n",
              "      <td>14.991786</td>\n",
              "      <td>15.085714</td>\n",
              "      <td>318292800.0</td>\n",
              "      <td>13.013701</td>\n",
              "    </tr>\n",
              "    <tr>\n",
              "      <th>2012-01-09</th>\n",
              "      <td>15.276786</td>\n",
              "      <td>15.048214</td>\n",
              "      <td>15.196429</td>\n",
              "      <td>15.061786</td>\n",
              "      <td>394024400.0</td>\n",
              "      <td>12.993060</td>\n",
              "    </tr>\n",
              "    <tr>\n",
              "      <th>...</th>\n",
              "      <td>...</td>\n",
              "      <td>...</td>\n",
              "      <td>...</td>\n",
              "      <td>...</td>\n",
              "      <td>...</td>\n",
              "      <td>...</td>\n",
              "    </tr>\n",
              "    <tr>\n",
              "      <th>2020-12-11</th>\n",
              "      <td>122.760002</td>\n",
              "      <td>120.550003</td>\n",
              "      <td>122.430000</td>\n",
              "      <td>122.410004</td>\n",
              "      <td>86939800.0</td>\n",
              "      <td>122.410004</td>\n",
              "    </tr>\n",
              "    <tr>\n",
              "      <th>2020-12-14</th>\n",
              "      <td>123.349998</td>\n",
              "      <td>121.540001</td>\n",
              "      <td>122.599998</td>\n",
              "      <td>121.779999</td>\n",
              "      <td>79184500.0</td>\n",
              "      <td>121.779999</td>\n",
              "    </tr>\n",
              "    <tr>\n",
              "      <th>2020-12-15</th>\n",
              "      <td>127.900002</td>\n",
              "      <td>124.129997</td>\n",
              "      <td>124.339996</td>\n",
              "      <td>127.879997</td>\n",
              "      <td>157572300.0</td>\n",
              "      <td>127.879997</td>\n",
              "    </tr>\n",
              "    <tr>\n",
              "      <th>2020-12-16</th>\n",
              "      <td>128.369995</td>\n",
              "      <td>126.559998</td>\n",
              "      <td>127.410004</td>\n",
              "      <td>127.809998</td>\n",
              "      <td>98208600.0</td>\n",
              "      <td>127.809998</td>\n",
              "    </tr>\n",
              "    <tr>\n",
              "      <th>2020-12-17</th>\n",
              "      <td>129.580002</td>\n",
              "      <td>128.039993</td>\n",
              "      <td>128.899994</td>\n",
              "      <td>128.699997</td>\n",
              "      <td>94359800.0</td>\n",
              "      <td>128.699997</td>\n",
              "    </tr>\n",
              "  </tbody>\n",
              "</table>\n",
              "<p>2256 rows × 6 columns</p>\n",
              "</div>"
            ],
            "text/plain": [
              "                  High         Low  ...       Volume   Adj Close\n",
              "Date                                ...                         \n",
              "2012-01-03   14.732143   14.607143  ...  302220800.0   12.669562\n",
              "2012-01-04   14.810000   14.617143  ...  260022000.0   12.737653\n",
              "2012-01-05   14.948214   14.738214  ...  271269600.0   12.879066\n",
              "2012-01-06   15.098214   14.972143  ...  318292800.0   13.013701\n",
              "2012-01-09   15.276786   15.048214  ...  394024400.0   12.993060\n",
              "...                ...         ...  ...          ...         ...\n",
              "2020-12-11  122.760002  120.550003  ...   86939800.0  122.410004\n",
              "2020-12-14  123.349998  121.540001  ...   79184500.0  121.779999\n",
              "2020-12-15  127.900002  124.129997  ...  157572300.0  127.879997\n",
              "2020-12-16  128.369995  126.559998  ...   98208600.0  127.809998\n",
              "2020-12-17  129.580002  128.039993  ...   94359800.0  128.699997\n",
              "\n",
              "[2256 rows x 6 columns]"
            ]
          },
          "metadata": {
            "tags": []
          },
          "execution_count": 72
        }
      ]
    },
    {
      "cell_type": "code",
      "metadata": {
        "colab": {
          "base_uri": "https://localhost:8080/"
        },
        "id": "zs291TI4Snfb",
        "outputId": "3e9dad4f-a838-4cd2-d10f-e3d6ae23cdbd"
      },
      "source": [
        "#Get the number of rows and cols in data set\r\n",
        "df.shape"
      ],
      "execution_count": 73,
      "outputs": [
        {
          "output_type": "execute_result",
          "data": {
            "text/plain": [
              "(2256, 6)"
            ]
          },
          "metadata": {
            "tags": []
          },
          "execution_count": 73
        }
      ]
    },
    {
      "cell_type": "code",
      "metadata": {
        "colab": {
          "base_uri": "https://localhost:8080/",
          "height": 558
        },
        "id": "mvubwrN9Sud_",
        "outputId": "868c534f-1b62-4bb7-e215-b037a00ea76a"
      },
      "source": [
        "#visualize the closing price\r\n",
        "plt.figure(figsize =(16,8))\r\n",
        "plt.title('Close Price History')\r\n",
        "plt.plot(df['Close'])\r\n",
        "plt.xlabel('Date', fontsize=18)\r\n",
        "plt.ylabel('Closing Price', fontsize=18)\r\n",
        "plt.show()"
      ],
      "execution_count": 74,
      "outputs": [
        {
          "output_type": "display_data",
          "data": {
            "image/png": "[encoded data removed]",
            "text/plain": [
              "<Figure size 1152x576 with 1 Axes>"
            ]
          },
          "metadata": {
            "tags": []
          }
        }
      ]
    },
    {
      "cell_type": "code",
      "metadata": {
        "colab": {
          "base_uri": "https://localhost:8080/"
        },
        "id": "Bj5orQALUGjL",
        "outputId": "cdd0ae21-ff26-4f6d-aee4-3837b2815402"
      },
      "source": [
        "# Create a new df with only Close column\r\n",
        "data = df.filter(['Close'])\r\n",
        "# Convert data to numpy array\r\n",
        "dataset = data.values\r\n",
        "#Get the number of rows to train the model on\r\n",
        "training_data_len = math.ceil(len(dataset) * 0.8)\r\n",
        "\r\n",
        "training_data_len"
      ],
      "execution_count": 75,
      "outputs": [
        {
          "output_type": "execute_result",
          "data": {
            "text/plain": [
              "1805"
            ]
          },
          "metadata": {
            "tags": []
          },
          "execution_count": 75
        }
      ]
    },
    {
      "cell_type": "code",
      "metadata": {
        "colab": {
          "base_uri": "https://localhost:8080/"
        },
        "id": "nhhWjqlDVFF7",
        "outputId": "5eeadc20-90cd-4445-f721-9e3780cf66c5"
      },
      "source": [
        "# Scale the data\r\n",
        "scaler = MinMaxScaler(feature_range=(0,1))\r\n",
        "scaled_data = scaler.fit_transform(dataset)\r\n",
        "\r\n",
        "scaled_data"
      ],
      "execution_count": 76,
      "outputs": [
        {
          "output_type": "execute_result",
          "data": {
            "text/plain": [
              "array([[0.0061488 ],\n",
              "       [0.00680526],\n",
              "       [0.00816869],\n",
              "       ...,\n",
              "       [0.94760156],\n",
              "       [0.94701935],\n",
              "       [0.95442167]])"
            ]
          },
          "metadata": {
            "tags": []
          },
          "execution_count": 76
        }
      ]
    },
    {
      "cell_type": "code",
      "metadata": {
        "colab": {
          "base_uri": "https://localhost:8080/"
        },
        "id": "5ugXCLHAViI0",
        "outputId": "fd506326-39b3-465b-d64e-bd7ffb66a1b2"
      },
      "source": [
        "# Create the training data set\r\n",
        "# Create the scaled training data set\r\n",
        "train_data = scaled_data[0: training_data_len, :]\r\n",
        "\r\n",
        "#Split the data x_train and y_train data set\r\n",
        "x_train = []\r\n",
        "y_train = []\r\n",
        "\r\n",
        "for i in range(60, len(train_data)):\r\n",
        "  x_train.append(train_data[i-60:i, 0])\r\n",
        "  y_train.append(train_data[i,0])\r\n",
        "  if i<= 61:\r\n",
        "    print(x_train)\r\n",
        "    print(y_train)\r\n",
        "    print()"
      ],
      "execution_count": 77,
      "outputs": [
        {
          "output_type": "stream",
          "text": [
            "[array([0.0061488 , 0.00680526, 0.00816869, 0.00946678, 0.00926776,\n",
            "       0.00971629, 0.00951133, 0.00916676, 0.00869743, 0.01014998,\n",
            "       0.01145994, 0.01105596, 0.00884298, 0.01095496, 0.00887566,\n",
            "       0.01667305, 0.01607006, 0.01685722, 0.01855928, 0.01959001,\n",
            "       0.01950387, 0.01918604, 0.02054056, 0.02181487, 0.02325851,\n",
            "       0.0255903 , 0.03048855, 0.03056281, 0.03328967, 0.03532738,\n",
            "       0.03182525, 0.03317382, 0.03314709, 0.03692846, 0.0363908 ,\n",
            "       0.03738589, 0.0391741 , 0.0401692 , 0.04303567, 0.04512387,\n",
            "       0.04572687, 0.04593778, 0.04236733, 0.04150589, 0.04163362,\n",
            "       0.04499022, 0.04593482, 0.04796363, 0.05274602, 0.05912652,\n",
            "       0.0579324 , 0.05793537, 0.06254846, 0.0639921 , 0.06296431,\n",
            "       0.06202567, 0.06104839, 0.06429507, 0.06652291, 0.06745562])]\n",
            "[0.06515055661523342]\n",
            "\n",
            "[array([0.0061488 , 0.00680526, 0.00816869, 0.00946678, 0.00926776,\n",
            "       0.00971629, 0.00951133, 0.00916676, 0.00869743, 0.01014998,\n",
            "       0.01145994, 0.01105596, 0.00884298, 0.01095496, 0.00887566,\n",
            "       0.01667305, 0.01607006, 0.01685722, 0.01855928, 0.01959001,\n",
            "       0.01950387, 0.01918604, 0.02054056, 0.02181487, 0.02325851,\n",
            "       0.0255903 , 0.03048855, 0.03056281, 0.03328967, 0.03532738,\n",
            "       0.03182525, 0.03317382, 0.03314709, 0.03692846, 0.0363908 ,\n",
            "       0.03738589, 0.0391741 , 0.0401692 , 0.04303567, 0.04512387,\n",
            "       0.04572687, 0.04593778, 0.04236733, 0.04150589, 0.04163362,\n",
            "       0.04499022, 0.04593482, 0.04796363, 0.05274602, 0.05912652,\n",
            "       0.0579324 , 0.05793537, 0.06254846, 0.0639921 , 0.06296431,\n",
            "       0.06202567, 0.06104839, 0.06429507, 0.06652291, 0.06745562]), array([0.00680526, 0.00816869, 0.00946678, 0.00926776, 0.00971629,\n",
            "       0.00951133, 0.00916676, 0.00869743, 0.01014998, 0.01145994,\n",
            "       0.01105596, 0.00884298, 0.01095496, 0.00887566, 0.01667305,\n",
            "       0.01607006, 0.01685722, 0.01855928, 0.01959001, 0.01950387,\n",
            "       0.01918604, 0.02054056, 0.02181487, 0.02325851, 0.0255903 ,\n",
            "       0.03048855, 0.03056281, 0.03328967, 0.03532738, 0.03182525,\n",
            "       0.03317382, 0.03314709, 0.03692846, 0.0363908 , 0.03738589,\n",
            "       0.0391741 , 0.0401692 , 0.04303567, 0.04512387, 0.04572687,\n",
            "       0.04593778, 0.04236733, 0.04150589, 0.04163362, 0.04499022,\n",
            "       0.04593482, 0.04796363, 0.05274602, 0.05912652, 0.0579324 ,\n",
            "       0.05793537, 0.06254846, 0.0639921 , 0.06296431, 0.06202567,\n",
            "       0.06104839, 0.06429507, 0.06652291, 0.06745562, 0.06515056])]\n",
            "[0.06515055661523342, 0.062088042929699744]\n",
            "\n"
          ],
          "name": "stdout"
        }
      ]
    },
    {
      "cell_type": "code",
      "metadata": {
        "id": "QoBCxNWDpPsw"
      },
      "source": [
        "# Convert x_train and y_train data to numpy arrays\r\n",
        "x_train, y_train = np.array(x_train), np.array(y_train)"
      ],
      "execution_count": 78,
      "outputs": []
    },
    {
      "cell_type": "code",
      "metadata": {
        "colab": {
          "base_uri": "https://localhost:8080/"
        },
        "id": "_VerP9vqpsNh",
        "outputId": "8d02f224-991b-448b-a698-1bcb2ddac443"
      },
      "source": [
        "#Reshape the data\r\n",
        "x_train = np.reshape(x_train, (x_train.shape[0],x_train.shape[1],1))\r\n",
        "x_train.shape"
      ],
      "execution_count": 79,
      "outputs": [
        {
          "output_type": "execute_result",
          "data": {
            "text/plain": [
              "(1745, 60, 1)"
            ]
          },
          "metadata": {
            "tags": []
          },
          "execution_count": 79
        }
      ]
    },
    {
      "cell_type": "code",
      "metadata": {
        "id": "F0E6DT0xqNT4"
      },
      "source": [
        "#Build the LSTM model\r\n",
        "model = Sequential()\r\n",
        "model.add(LSTM( 50, return_sequences=True, input_shape= (x_train.shape[1], 1)))\r\n",
        "model.add(LSTM(50, return_sequences=False))\r\n",
        "model.add(Dense(25))\r\n",
        "model.add(Dense(1))"
      ],
      "execution_count": 80,
      "outputs": []
    },
    {
      "cell_type": "code",
      "metadata": {
        "id": "f5HNW65Prw07"
      },
      "source": [
        "# Complile the model\r\n",
        "model.compile(optimizer='adam', loss='mean_squared_error')"
      ],
      "execution_count": 81,
      "outputs": []
    },
    {
      "cell_type": "code",
      "metadata": {
        "colab": {
          "base_uri": "https://localhost:8080/"
        },
        "id": "YNUSNEbgr8Qu",
        "outputId": "a048443e-0977-494e-8b6b-7eadb809b065"
      },
      "source": [
        "#Train the model\r\n",
        "model.fit(x_train, y_train, batch_size=1, epochs=1)"
      ],
      "execution_count": 82,
      "outputs": [
        {
          "output_type": "stream",
          "text": [
            "1745/1745 [==============================] - 42s 23ms/step - loss: 4.6853e-04\n"
          ],
          "name": "stdout"
        },
        {
          "output_type": "execute_result",
          "data": {
            "text/plain": [
              "<tensorflow.python.keras.callbacks.History at 0x7f547b33a780>"
            ]
          },
          "metadata": {
            "tags": []
          },
          "execution_count": 82
        }
      ]
    },
    {
      "cell_type": "code",
      "metadata": {
        "id": "3KMdL5U-sUy_"
      },
      "source": [
        "# Create the testing data set\r\n",
        "# Create a new array containing scaled values from index 1543 to 2003\r\n",
        "test_data = scaled_data[training_data_len-60:, :]\r\n",
        "# Create the data sets x_test, y_test\r\n",
        "x_test =[]\r\n",
        "y_test = dataset[training_data_len:, :]\r\n",
        "\r\n",
        "for i in range(60, len(test_data)):\r\n",
        "  x_test.append(test_data[i-60:i, 0])"
      ],
      "execution_count": 83,
      "outputs": []
    },
    {
      "cell_type": "code",
      "metadata": {
        "id": "T9kfcJqqtTJ5"
      },
      "source": [
        "# Convert the data to a numpy array\r\n",
        "x_test = np.array(x_test)"
      ],
      "execution_count": 84,
      "outputs": []
    },
    {
      "cell_type": "code",
      "metadata": {
        "colab": {
          "base_uri": "https://localhost:8080/"
        },
        "id": "7pXuKv_Atc-i",
        "outputId": "f5844637-6f05-4f8c-d01a-4dfe1d12c961"
      },
      "source": [
        "# Reshape the data\r\n",
        "x_test = np.reshape(x_test, (x_test.shape[0], x_test.shape[1], 1))\r\n",
        "x_test.shape"
      ],
      "execution_count": 85,
      "outputs": [
        {
          "output_type": "execute_result",
          "data": {
            "text/plain": [
              "(451, 60, 1)"
            ]
          },
          "metadata": {
            "tags": []
          },
          "execution_count": 85
        }
      ]
    },
    {
      "cell_type": "code",
      "metadata": {
        "id": "4KPPmBMBt0c2"
      },
      "source": [
        "# Get the model predicted price values\r\n",
        "predictions = model.predict(x_test)\r\n",
        "predictions = scaler.inverse_transform(predictions)\r\n"
      ],
      "execution_count": 86,
      "outputs": []
    },
    {
      "cell_type": "code",
      "metadata": {
        "colab": {
          "base_uri": "https://localhost:8080/"
        },
        "id": "q1Wd9zTRuYVy",
        "outputId": "50c233a5-fe98-4dd3-fe58-ae03014a157c"
      },
      "source": [
        "# Get the root mean sqaured error (RMSE)\r\n",
        "rmse = np.sqrt(np.mean(predictions - y_test)**2 )\r\n",
        "rmse"
      ],
      "execution_count": 87,
      "outputs": [
        {
          "output_type": "execute_result",
          "data": {
            "text/plain": [
              "1.2669510175277812"
            ]
          },
          "metadata": {
            "tags": []
          },
          "execution_count": 87
        }
      ]
    },
    {
      "cell_type": "code",
      "metadata": {
        "colab": {
          "base_uri": "https://localhost:8080/",
          "height": 660
        },
        "id": "CuH_zkHmu93e",
        "outputId": "18338c40-f076-400f-ef17-ddb932f53872"
      },
      "source": [
        "# Plot the data\r\n",
        "train = data[:training_data_len]\r\n",
        "valid = data[training_data_len:]\r\n",
        "valid['Predictions'] = predictions\r\n",
        "\r\n",
        "# visualize data\r\n",
        "plt.figure(figsize=(16,8))\r\n",
        "plt.title('Model')\r\n",
        "plt.xlabel('Date', fontsize=18)\r\n",
        "plt.ylabel('Close Price', fontsize=18)\r\n",
        "plt.plot(train['Close'])\r\n",
        "plt.plot(valid[['Close', 'Predictions']])\r\n",
        "plt.legend(['TRain', 'Val','Predictions'], loc='lower right')\r\n",
        "plt.show()"
      ],
      "execution_count": 88,
      "outputs": [
        {
          "output_type": "stream",
          "text": [
            "/usr/local/lib/python3.6/dist-packages/ipykernel_launcher.py:4: SettingWithCopyWarning: \n",
            "A value is trying to be set on a copy of a slice from a DataFrame.\n",
            "Try using .loc[row_indexer,col_indexer] = value instead\n",
            "\n",
            "See the caveats in the documentation: https://pandas.pydata.org/pandas-docs/stable/user_guide/indexing.html#returning-a-view-versus-a-copy\n",
            "  after removing the cwd from sys.path.\n"
          ],
          "name": "stderr"
        },
        {
          "output_type": "display_data",
          "data": {
            "image/png": "[encoded data removed]",
            "text/plain": [
              "<Figure size 1152x576 with 1 Axes>"
            ]
          },
          "metadata": {
            "tags": []
          }
        }
      ]
    },
    {
      "cell_type": "code",
      "metadata": {
        "colab": {
          "base_uri": "https://localhost:8080/",
          "height": 450
        },
        "id": "5HrJDf8XwaRE",
        "outputId": "d41f30b9-2b57-4e86-b386-aab9fdad2c7c"
      },
      "source": [
        "# Show the valid and predicted price\r\n",
        "valid"
      ],
      "execution_count": 52,
      "outputs": [
        {
          "output_type": "execute_result",
          "data": {
            "text/html": [
              "<div>\n",
              "<style scoped>\n",
              "    .dataframe tbody tr th:only-of-type {\n",
              "        vertical-align: middle;\n",
              "    }\n",
              "\n",
              "    .dataframe tbody tr th {\n",
              "        vertical-align: top;\n",
              "    }\n",
              "\n",
              "    .dataframe thead th {\n",
              "        text-align: right;\n",
              "    }\n",
              "</style>\n",
              "<table border=\"1\" class=\"dataframe\">\n",
              "  <thead>\n",
              "    <tr style=\"text-align: right;\">\n",
              "      <th></th>\n",
              "      <th>Close</th>\n",
              "      <th>Predictions</th>\n",
              "    </tr>\n",
              "    <tr>\n",
              "      <th>Date</th>\n",
              "      <th></th>\n",
              "      <th></th>\n",
              "    </tr>\n",
              "  </thead>\n",
              "  <tbody>\n",
              "    <tr>\n",
              "      <th>2018-05-17</th>\n",
              "      <td>46.747501</td>\n",
              "      <td>47.038425</td>\n",
              "    </tr>\n",
              "    <tr>\n",
              "      <th>2018-05-18</th>\n",
              "      <td>46.577499</td>\n",
              "      <td>47.105064</td>\n",
              "    </tr>\n",
              "    <tr>\n",
              "      <th>2018-05-21</th>\n",
              "      <td>46.907501</td>\n",
              "      <td>47.107677</td>\n",
              "    </tr>\n",
              "    <tr>\n",
              "      <th>2018-05-22</th>\n",
              "      <td>46.790001</td>\n",
              "      <td>47.122192</td>\n",
              "    </tr>\n",
              "    <tr>\n",
              "      <th>2018-05-23</th>\n",
              "      <td>47.090000</td>\n",
              "      <td>47.123524</td>\n",
              "    </tr>\n",
              "    <tr>\n",
              "      <th>...</th>\n",
              "      <td>...</td>\n",
              "      <td>...</td>\n",
              "    </tr>\n",
              "    <tr>\n",
              "      <th>2019-12-11</th>\n",
              "      <td>67.692497</td>\n",
              "      <td>66.257881</td>\n",
              "    </tr>\n",
              "    <tr>\n",
              "      <th>2019-12-12</th>\n",
              "      <td>67.864998</td>\n",
              "      <td>66.480507</td>\n",
              "    </tr>\n",
              "    <tr>\n",
              "      <th>2019-12-13</th>\n",
              "      <td>68.787498</td>\n",
              "      <td>66.717148</td>\n",
              "    </tr>\n",
              "    <tr>\n",
              "      <th>2019-12-16</th>\n",
              "      <td>69.964996</td>\n",
              "      <td>67.047478</td>\n",
              "    </tr>\n",
              "    <tr>\n",
              "      <th>2019-12-17</th>\n",
              "      <td>70.102501</td>\n",
              "      <td>67.520897</td>\n",
              "    </tr>\n",
              "  </tbody>\n",
              "</table>\n",
              "<p>400 rows × 2 columns</p>\n",
              "</div>"
            ],
            "text/plain": [
              "                Close  Predictions\n",
              "Date                              \n",
              "2018-05-17  46.747501    47.038425\n",
              "2018-05-18  46.577499    47.105064\n",
              "2018-05-21  46.907501    47.107677\n",
              "2018-05-22  46.790001    47.122192\n",
              "2018-05-23  47.090000    47.123524\n",
              "...               ...          ...\n",
              "2019-12-11  67.692497    66.257881\n",
              "2019-12-12  67.864998    66.480507\n",
              "2019-12-13  68.787498    66.717148\n",
              "2019-12-16  69.964996    67.047478\n",
              "2019-12-17  70.102501    67.520897\n",
              "\n",
              "[400 rows x 2 columns]"
            ]
          },
          "metadata": {
            "tags": []
          },
          "execution_count": 52
        }
      ]
    },
    {
      "cell_type": "code",
      "metadata": {
        "colab": {
          "base_uri": "https://localhost:8080/"
        },
        "id": "dO81Ui12wq0g",
        "outputId": "2f4bb70b-452c-4715-a2ef-09017153dbbe"
      },
      "source": [
        "# Get the quote\r\n",
        "apple_quote = web.DataReader('AAPL', data_source='yahoo', start='2012-01-01', end='2021-01-24')\r\n",
        "# Create new data frame\r\n",
        "new_df = apple_quote.filter(['Close'])\r\n",
        "\r\n",
        "#Get the 60day closing price values and convert the df into array\r\n",
        "last_60_days = new_df[-60:].values\r\n",
        "\r\n",
        "#Scale the data\r\n",
        "last_60_days_scaled = scaler.transform(last_60_days)\r\n",
        "\r\n",
        "#Create empty list\r\n",
        "X_test =[]\r\n",
        "\r\n",
        "#Append the past 60 days\r\n",
        "X_test.append(last_60_days_scaled)\r\n",
        "\r\n",
        "#Convert the X_test data set to a np array\r\n",
        "X_test = np.array(X_test)\r\n",
        "\r\n",
        "#Reshape the data\r\n",
        "X_test = np.reshape(X_test,(X_test.shape[0], X_test.shape[1],1))\r\n",
        "\r\n",
        "#Get predicted price\r\n",
        "pred_price = model.predict(X_test)\r\n",
        "\r\n",
        "#undo the scaling\r\n",
        "pred_price = scaler.inverse_transform(pred_price)\r\n",
        "\r\n",
        "print(pred_price)"
      ],
      "execution_count": 91,
      "outputs": [
        {
          "output_type": "stream",
          "text": [
            "[[129.64655]]\n"
          ],
          "name": "stdout"
        }
      ]
    },
    {
      "cell_type": "code",
      "metadata": {
        "colab": {
          "base_uri": "https://localhost:8080/"
        },
        "id": "pB8RiwBKy_Gx",
        "outputId": "73a55735-4ff0-4526-fa36-a412a7dd06a1"
      },
      "source": [
        "apple_quote2 = web.DataReader('AAPL', data_source='yahoo', start='2021-01-25', end='2021-01-25')\r\n",
        "apple_quote2['Close']"
      ],
      "execution_count": 92,
      "outputs": [
        {
          "output_type": "execute_result",
          "data": {
            "text/plain": [
              "Date\n",
              "2021-01-25    142.550003\n",
              "Name: Close, dtype: float64"
            ]
          },
          "metadata": {
            "tags": []
          },
          "execution_count": 92
        }
      ]
    }
  ]
}